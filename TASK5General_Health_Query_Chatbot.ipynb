{
  "nbformat": 4,
  "nbformat_minor": 0,
  "metadata": {
    "colab": {
      "provenance": []
    },
    "kernelspec": {
      "name": "python3",
      "display_name": "Python 3"
    },
    "language_info": {
      "name": "python"
    }
  },
  "cells": [
    {
      "cell_type": "code",
      "source": [
        "# 🤖 General Health Chatbot using FLAN-T5-Large\n",
        "# Task: Respond to general health questions safely\n",
        "# Model: google/flan-t5-large (fast, public, accurate)\n",
        "\n",
        "\n",
        "# 🛠️ Step 1: Install required library\n",
        "!pip install -q transformers\n",
        "\n",
        "# 🔄 Step 2: Import necessary libraries\n",
        "from transformers import AutoTokenizer, AutoModelForSeq2SeqLM\n",
        "import torch\n",
        "\n",
        "# ✅ Step 3: Load the FLAN-T5-Large model and tokenizer\n",
        "model_name = \"google/flan-t5-large\"\n",
        "tokenizer = AutoTokenizer.from_pretrained(model_name)\n",
        "model = AutoModelForSeq2SeqLM.from_pretrained(\n",
        "    model_name,\n",
        "    device_map=\"auto\" if torch.cuda.is_available() else \"cpu\"\n",
        ")\n",
        "\n",
        "# 🛡️ Step 4: Define the safety filter to block sensitive/risky queries\n",
        "def is_safe_query(user_input):\n",
        "    blocked_keywords = [\n",
        "        \"suicide\", \"kill\", \"overdose\", \"abortion\", \"self-harm\", \"emergency\",\n",
        "        \"depression\", \"hurt myself\", \"pills\", \"cut\", \"hang\", \"bleeding\",\n",
        "        \"faint\", \"heart attack\", \"chest pain\", \"unconscious\", \"drug\", \"alcohol\",\n",
        "        \"poison\", \"hopeless\", \"injury\", \"stab\", \"expired medicine\", \"stop breathing\"\n",
        "    ]\n",
        "    return not any(word in user_input.lower() for word in blocked_keywords)\n",
        "\n",
        "# 🤖 Step 5: Define the response generation function\n",
        "def get_response(user_input):\n",
        "    # Check if the query is safe to respond to\n",
        "    if not is_safe_query(user_input):\n",
        "        return \"⚠️ Sorry, I can't help with that. Please consult a licensed medical professional.\"\n",
        "\n",
        "    # Format the prompt to guide the model's tone and style\n",
        "    prompt = f\"Answer this like a helpful health assistant: {user_input}\"\n",
        "\n",
        "    # Tokenize the input for the model\n",
        "    inputs = tokenizer(prompt, return_tensors=\"pt\").to(model.device)\n",
        "\n",
        "    # Generate response using the model\n",
        "    output = model.generate(\n",
        "        **inputs,\n",
        "        max_new_tokens=100,\n",
        "        pad_token_id=tokenizer.eos_token_id  # Prevent padding warning\n",
        "    )\n",
        "\n",
        "    # Decode the output and clean it up\n",
        "    return tokenizer.decode(output[0], skip_special_tokens=True).strip()\n",
        "\n",
        "# 💬 Step 6: Start interactive chatbot loop\n",
        "print(\"🤖 General Health Chatbot (FLAN-T5-Large)\\nType 'exit' to quit.\\n\")\n",
        "\n",
        "while True:\n",
        "    user_input = input(\"You: \")\n",
        "    if user_input.lower() == \"exit\":\n",
        "        print(\"Chatbot: Stay healthy! 🌿\")\n",
        "        break\n",
        "\n",
        "    response = get_response(user_input)\n",
        "    print(\"Chatbot:\", response, \"\\n\")\n"
      ],
      "metadata": {
        "colab": {
          "base_uri": "https://localhost:8080/"
        },
        "id": "43AfgSL9n-8I",
        "outputId": "9ff9c864-145b-4ff7-d46d-1c49a5942093"
      },
      "execution_count": 3,
      "outputs": [
        {
          "output_type": "stream",
          "name": "stdout",
          "text": [
            "🤖 General Health Chatbot (FLAN-T5-Large)\n",
            "Type 'exit' to quit.\n",
            "\n",
            "You: How often should I exercise?\n",
            "Chatbot: Exercise for at least 30 minutes every day. \n",
            "\n",
            "You: Why do we get sore throats?\n",
            "Chatbot: a cold \n",
            "\n",
            "You: Why is washing hands important?\n",
            "Chatbot: Keeping your hands clean can help prevent illness \n",
            "\n",
            "You: \"What to do during a heart attack?\"\n",
            "Chatbot: ⚠️ Sorry, I can't help with that. Please consult a licensed medical professional. \n",
            "\n",
            "You: \"Can I overdose on painkillers?\"\n",
            "Chatbot: ⚠️ Sorry, I can't help with that. Please consult a licensed medical professional. \n",
            "\n",
            "You: exit\n",
            "Chatbot: Stay healthy! 🌿\n"
          ]
        }
      ]
    }
  ]
}